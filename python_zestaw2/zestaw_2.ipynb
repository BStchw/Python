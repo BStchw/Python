{
 "cells": [
  {
   "cell_type": "markdown",
   "id": "3e352833",
   "metadata": {
    "scrolled": true
   },
   "source": [
    "\n",
    "## Zadanie 2.10\n",
    "Mamy dany napis wielowierszowy line. Podać sposób obliczenia liczby wyrazów w napisie. Przez wyraz rozumiemy ciąg \"czarnych\" znaków, oddzielony od innych wyrazów białymi znakami (spacja, tabulacja, newline)."
   ]
  },
  {
   "cell_type": "code",
   "execution_count": 34,
   "id": "efea238a",
   "metadata": {},
   "outputs": [
    {
     "name": "stdout",
     "output_type": "stream",
     "text": [
      "6\n"
     ]
    }
   ],
   "source": [
    "def z_2_10():\n",
    "    line = \"Rok 1648 byl to dziwny rok\"\n",
    "    n = len(line.split())\n",
    "    print(n)\n",
    "\n",
    "z_2_10()"
   ]
  },
  {
   "cell_type": "markdown",
   "id": "6702bc13",
   "metadata": {},
   "source": [
    "## Zadanie 2.11"
   ]
  },
  {
   "cell_type": "markdown",
   "id": "26307f46",
   "metadata": {},
   "source": [
    "Podać sposób wyświetlania napisu word tak, aby jego znaki były rozdzielone znakiem podkreślenia."
   ]
  },
  {
   "cell_type": "code",
   "execution_count": 22,
   "id": "3042d241",
   "metadata": {},
   "outputs": [
    {
     "name": "stdout",
     "output_type": "stream",
     "text": [
      "P_Y_T_H_O_N\n"
     ]
    }
   ],
   "source": [
    "def z_2_11():\n",
    "    word = \"PYTHON\"\n",
    "    word2 = \"\"\n",
    "    l = word[1:len(word)-1]\n",
    "    for char in l:\n",
    "        word2 = word2 + \"_\"+char\n",
    "    print(word[0] + word2 + \"_\" + word[-1])\n",
    "    \n",
    "z_2_11()"
   ]
  },
  {
   "cell_type": "markdown",
   "id": "33c3dd4e",
   "metadata": {},
   "source": [
    "## Zadanie 2.12"
   ]
  },
  {
   "cell_type": "markdown",
   "id": "8541a522",
   "metadata": {},
   "source": [
    "Zbudować napis stworzony z pierwszych znaków wyrazów z wiersza line. Zbudować napis stworzony z ostatnich znaków wyrazów z wiersza line.\n",
    "\n"
   ]
  },
  {
   "cell_type": "code",
   "execution_count": 35,
   "id": "2bff1e75",
   "metadata": {},
   "outputs": [
    {
     "name": "stdout",
     "output_type": "stream",
     "text": [
      "R1btdr\n",
      "k8loyk\n"
     ]
    }
   ],
   "source": [
    "def z_2_12(which_char):\n",
    "    line = \"Rok 1648 byl to dziwny rok\"\n",
    "    w = ''\n",
    "    for every_word in (line.split()):\n",
    "        w = w + every_word[which_char]\n",
    "    print(w)\n",
    "    w = ''   \n",
    "    \n",
    "z_2_12(0)\n",
    "z_2_12(-1)"
   ]
  },
  {
   "cell_type": "markdown",
   "id": "bced2fed",
   "metadata": {},
   "source": [
    "## Zadanie 2.13"
   ]
  },
  {
   "cell_type": "markdown",
   "id": "f7e27613",
   "metadata": {},
   "source": [
    "Znaleźć łączną długość wyrazów w napisie line. Wskazówka: można skorzystać z funkcji sum()."
   ]
  },
  {
   "cell_type": "code",
   "execution_count": 49,
   "id": "b86b914c",
   "metadata": {},
   "outputs": [
    {
     "name": "stdout",
     "output_type": "stream",
     "text": [
      "21\n"
     ]
    }
   ],
   "source": [
    "def z_2_13():\n",
    "    line = \"Rok 1648 byl to dziwny rok\"\n",
    "    total_l = 0\n",
    "    for word in line.split():\n",
    "            total_l = total_l + len(word)\n",
    "    print(total_l)\n",
    "    \n",
    "z_2_13()"
   ]
  },
  {
   "cell_type": "markdown",
   "id": "f8daeaca",
   "metadata": {},
   "source": [
    "## Zadanie 2.14"
   ]
  },
  {
   "cell_type": "markdown",
   "id": "308dedf6",
   "metadata": {},
   "source": [
    "Znaleźć: (a) najdłuższy wyraz, (b) długość najdłuższego wyrazu w napisie line."
   ]
  },
  {
   "cell_type": "code",
   "execution_count": 50,
   "id": "fb6d02c1",
   "metadata": {},
   "outputs": [
    {
     "name": "stdout",
     "output_type": "stream",
     "text": [
      "a) dziwny\n",
      "b) 6\n"
     ]
    }
   ],
   "source": [
    "def z_2_14():\n",
    "    line = \"Rok 1648 byl to dziwny rok\"\n",
    "    longest = \"\"\n",
    "    for word in line.split():\n",
    "        if len(word) > len(longest):\n",
    "            longest = word\n",
    "    print(\"a) \" + longest)\n",
    "    print(\"b) \" + str(len(longest)))\n",
    "    \n",
    "z_2_14()"
   ]
  },
  {
   "cell_type": "markdown",
   "id": "bc8a5248",
   "metadata": {},
   "source": [
    "## Zadanie 2.15"
   ]
  },
  {
   "cell_type": "markdown",
   "id": "23368588",
   "metadata": {},
   "source": [
    "Na liście L znajdują się liczby całkowite dodatnie. Stworzyć napis będący ciągiem cyfr kolejnych liczb z listy L."
   ]
  },
  {
   "cell_type": "code",
   "execution_count": 73,
   "id": "ceef077c",
   "metadata": {},
   "outputs": [
    {
     "name": "stdout",
     "output_type": "stream",
     "text": [
      "8346729147987\n"
     ]
    }
   ],
   "source": [
    "from functools import reduce\n",
    "\n",
    "def z_2_15():\n",
    "    L = [8, 34, 67, 2, 9, 14, 7987]\n",
    "    L2 = reduce(lambda x,y: str(x)+str(y), L)\n",
    "    print(L2)\n",
    "\n",
    "z_2_15()"
   ]
  },
  {
   "cell_type": "markdown",
   "id": "54cf4ff8",
   "metadata": {},
   "source": [
    "## Zadanie 2.16"
   ]
  },
  {
   "cell_type": "markdown",
   "id": "cbe52652",
   "metadata": {},
   "source": [
    "W tekście znajdującym się w zmiennej line zamienić ciąg znaków \"GvR\" na \"Guido van Rossum\"."
   ]
  },
  {
   "cell_type": "code",
   "execution_count": 76,
   "id": "b6c98095",
   "metadata": {},
   "outputs": [
    {
     "name": "stdout",
     "output_type": "stream",
     "text": [
      "Guido van Rossum is a Dutch programmer. Guido van Rossum was born and raised in the Netherlands. Guido van Rossum was stutying the University of Amsterdam\n"
     ]
    }
   ],
   "source": [
    "def z_2_16():\n",
    "    line = \"GvR is a Dutch programmer. GvR was born and raised in the Netherlands. GvR was stutying the University of Amsterdam\"\n",
    "    line = line.replace(\"GvR\", \"Guido van Rossum\")\n",
    "    print(line)\n",
    "z_2_16()"
   ]
  },
  {
   "cell_type": "markdown",
   "id": "f129fe96",
   "metadata": {},
   "source": [
    "## Zadanie 2.17"
   ]
  },
  {
   "cell_type": "markdown",
   "id": "4409d7f5",
   "metadata": {},
   "source": [
    "Posortować wyrazy z napisu line raz alfabetycznie, a raz pod względem długości. Wskazówka: funkcja wbudowana sorted()."
   ]
  },
  {
   "cell_type": "code",
   "execution_count": 79,
   "id": "bf3a5aaf",
   "metadata": {},
   "outputs": [
    {
     "name": "stdout",
     "output_type": "stream",
     "text": [
      "alphabetical:  ['a', 'Amsterdam', 'and', 'born', 'Dutch', 'GvR', 'GvR', 'GvR', 'in', 'is', 'Netherlands.', 'of', 'programmer.', 'raised', 'stutying', 'the', 'the', 'University', 'was', 'was']\n",
      "length:  ['a', 'is', 'in', 'of', 'GvR', 'GvR', 'was', 'and', 'the', 'GvR', 'was', 'the', 'born', 'Dutch', 'raised', 'stutying', 'Amsterdam', 'University', 'programmer.', 'Netherlands.']\n"
     ]
    }
   ],
   "source": [
    "def z_2_17():\n",
    "    line = \"GvR is a Dutch programmer. GvR was born and raised in the Netherlands. GvR was stutying the University of Amsterdam\"\n",
    "    alphabetical = sorted(line.split(), key=lambda word: word.lower())\n",
    "    print(\"alphabetical: \", alphabetical)\n",
    "    lenght = sorted(line.split(), key=lambda word: len(word))\n",
    "    print(\"length: \", sorted_list)\n",
    "    \n",
    "z_2_17()"
   ]
  },
  {
   "cell_type": "markdown",
   "id": "0b925be7",
   "metadata": {},
   "source": [
    "## Zadanie 2.18"
   ]
  },
  {
   "cell_type": "markdown",
   "id": "d4617ece",
   "metadata": {},
   "source": [
    "Znaleźć liczbę cyfr zero w dużej liczbie całkowitej. Wskazówka: zamienić liczbę na napis."
   ]
  },
  {
   "cell_type": "code",
   "execution_count": 87,
   "id": "30b2e432",
   "metadata": {},
   "outputs": [
    {
     "name": "stdout",
     "output_type": "stream",
     "text": [
      "7\n"
     ]
    }
   ],
   "source": [
    "def z_2_18():\n",
    "    num = 10290301800039019982\n",
    "    num_str = str(num)\n",
    "    l1 = num\n",
    "    print(num_str.count('0'))\n",
    "z_2_18()"
   ]
  },
  {
   "cell_type": "markdown",
   "id": "898a6d36",
   "metadata": {},
   "source": [
    "## Zadanie 2.19"
   ]
  },
  {
   "cell_type": "markdown",
   "id": "f41500dc",
   "metadata": {},
   "source": [
    "Na liście L mamy liczby jedno-, dwu- i trzycyfrowe dodatnie. Chcemy zbudować napis z trzycyfrowych bloków, gdzie liczby jedno- i dwucyfrowe będą miały blok dopełniony zerami, np. 007, 024. Wskazówka: str.zfill().\n",
    "    "
   ]
  },
  {
   "cell_type": "code",
   "execution_count": 92,
   "id": "287f48e8",
   "metadata": {},
   "outputs": [
    {
     "name": "stdout",
     "output_type": "stream",
     "text": [
      "001004077754008663002700086100004002012043017008017092344388\n"
     ]
    }
   ],
   "source": [
    "def z_2_19():\n",
    "    L = [1,4,77,754,8,663,2,700,86,100,4,2,12,43,17,8,17,92,344,388]\n",
    "    w = \"\"\n",
    "    for number in L:\n",
    "        w = w + (str(number).zfill(3))\n",
    "    print(w)\n",
    "z_2_19()"
   ]
  }
 ],
 "metadata": {
  "kernelspec": {
   "display_name": "Python 3",
   "language": "python",
   "name": "python3"
  },
  "language_info": {
   "codemirror_mode": {
    "name": "ipython",
    "version": 3
   },
   "file_extension": ".py",
   "mimetype": "text/x-python",
   "name": "python",
   "nbconvert_exporter": "python",
   "pygments_lexer": "ipython3",
   "version": "3.8.8"
  }
 },
 "nbformat": 4,
 "nbformat_minor": 5
}
