{
 "cells": [
  {
   "cell_type": "markdown",
   "id": "baf06562",
   "metadata": {},
   "source": [
    "## Zadanie 3.1\n"
   ]
  },
  {
   "cell_type": "markdown",
   "id": "d2b35f15",
   "metadata": {},
   "source": [
    "Czy podany kod jest poprawny składniowo w Pythonie? Jeśli nie, to dlaczego?"
   ]
  },
  {
   "cell_type": "code",
   "execution_count": 7,
   "id": "c0dd381e",
   "metadata": {},
   "outputs": [],
   "source": [
    "x = 2; y = 3;\n",
    "if (x > y):\n",
    "    result = x;\n",
    "else:\n",
    "    result = y;\n"
   ]
  },
  {
   "cell_type": "markdown",
   "id": "f9775861",
   "metadata": {},
   "source": [
    "Niepotrzebne średniki."
   ]
  },
  {
   "cell_type": "code",
   "execution_count": null,
   "id": "9f38b623",
   "metadata": {},
   "outputs": [],
   "source": [
    "for i in \"axby\": if ord(i) < 100: print (i)"
   ]
  },
  {
   "cell_type": "code",
   "execution_count": null,
   "id": "b2a9bfd9",
   "metadata": {},
   "outputs": [],
   "source": [
    "for i in \"axby\": print (ord(i) if ord(i) < 100 else i)"
   ]
  },
  {
   "cell_type": "markdown",
   "id": "5b06682a",
   "metadata": {},
   "source": [
    "Stosując if oraz for należy robić wcięcia w kodzie."
   ]
  },
  {
   "cell_type": "markdown",
   "id": "16eccb2b",
   "metadata": {},
   "source": [
    "## Zadanie 3.2"
   ]
  },
  {
   "cell_type": "markdown",
   "id": "320c6e3a",
   "metadata": {},
   "source": [
    "Co jest złego w kodzie:"
   ]
  },
  {
   "cell_type": "code",
   "execution_count": 11,
   "id": "e8710c86",
   "metadata": {},
   "outputs": [],
   "source": [
    "L = [3, 5, 4] ; L = L.sort()"
   ]
  },
  {
   "cell_type": "markdown",
   "id": "f34c631d",
   "metadata": {},
   "source": [
    "Niepotrzebny średnik."
   ]
  },
  {
   "cell_type": "code",
   "execution_count": null,
   "id": "d587b23e",
   "metadata": {},
   "outputs": [],
   "source": [
    "x, y = 1, 2, 3"
   ]
  },
  {
   "cell_type": "code",
   "execution_count": null,
   "id": "5ba9ddbe",
   "metadata": {},
   "outputs": [],
   "source": [
    "Nie ma zmiennej do której można przypisać 3."
   ]
  },
  {
   "cell_type": "code",
   "execution_count": null,
   "id": "35dc548a",
   "metadata": {},
   "outputs": [],
   "source": [
    "X = 1, 2, 3 ; X[1] = 4"
   ]
  },
  {
   "cell_type": "markdown",
   "id": "46edc517",
   "metadata": {},
   "source": [
    "X jest niezmienną listą (tuple)."
   ]
  },
  {
   "cell_type": "code",
   "execution_count": null,
   "id": "5a109c23",
   "metadata": {},
   "outputs": [],
   "source": [
    "X = [1, 2, 3] ; X[3] = 4"
   ]
  },
  {
   "cell_type": "markdown",
   "id": "5e42cc0c",
   "metadata": {},
   "source": [
    "W liście nie ma indeksu 3."
   ]
  },
  {
   "cell_type": "code",
   "execution_count": null,
   "id": "e37fe6e4",
   "metadata": {},
   "outputs": [],
   "source": [
    "X = \"abc\" ; X.append(\"d\")"
   ]
  },
  {
   "cell_type": "markdown",
   "id": "ffcda004",
   "metadata": {},
   "source": [
    "Przy obiektach typu string nie można używać funkcji append."
   ]
  },
  {
   "cell_type": "code",
   "execution_count": null,
   "id": "01954943",
   "metadata": {},
   "outputs": [],
   "source": [
    "L = list(map(pow, range(8)))"
   ]
  },
  {
   "cell_type": "markdown",
   "id": "c3974eb0",
   "metadata": {},
   "source": [
    "Funkcja pow() musi mieć 2 argumenty."
   ]
  },
  {
   "cell_type": "markdown",
   "id": "6e0d8e93",
   "metadata": {},
   "source": [
    "## Zadanie 3.3"
   ]
  },
  {
   "cell_type": "markdown",
   "id": "2118b149",
   "metadata": {},
   "source": [
    "Wypisać w pętli liczby od 0 do 30 z wyjątkiem liczb podzielnych przez 3."
   ]
  },
  {
   "cell_type": "code",
   "execution_count": null,
   "id": "b599e9b3",
   "metadata": {},
   "outputs": [],
   "source": [
    "def z_3_3():\n",
    "    l = []\n",
    "    for i in range(31):\n",
    "        if (i % 3)!=0:\n",
    "            l.append(i)\n",
    "    print(l)\n",
    "z_3_3()"
   ]
  },
  {
   "cell_type": "markdown",
   "id": "38eae970",
   "metadata": {},
   "source": [
    "## Zadanie 3.4"
   ]
  },
  {
   "cell_type": "markdown",
   "id": "62b6374e",
   "metadata": {},
   "source": [
    "Napisać program pobierający w pętli od użytkownika liczbę rzeczywistą x (typ float) i wypisujący x oraz trzecią potęgę x. Zatrzymanie programu następuje po wpisaniu z klawiatury stop. Jeżeli użytkownik wpisze napis zamiast liczby, to program ma wypisać komunikat o błędzie i kontynuować pracę."
   ]
  },
  {
   "cell_type": "code",
   "execution_count": 1,
   "id": "f8743f6d",
   "metadata": {},
   "outputs": [
    {
     "name": "stdout",
     "output_type": "stream",
     "text": [
      "4\n",
      "x = 4.0\n",
      "x^3 = 64.0\n",
      "6\n",
      "x = 6.0\n",
      "x^3 = 216.0\n",
      "stop\n"
     ]
    }
   ],
   "source": [
    "def z_3_4():\n",
    "    while True:\n",
    "        x = input()\n",
    "        if x.isdigit():\n",
    "            y = float(x)\n",
    "            print(\"x = \"+str(y))\n",
    "            print(\"x^3 = \"+str(pow(y, 3)))\n",
    "        elif x==\"stop\":\n",
    "            break\n",
    "        else:\n",
    "            print(\"This is no number\")\n",
    "z_3_4()"
   ]
  },
  {
   "cell_type": "markdown",
   "id": "3efc6669",
   "metadata": {},
   "source": [
    "## Zadanie 3.5"
   ]
  },
  {
   "cell_type": "markdown",
   "id": "9aa1bc19",
   "metadata": {},
   "source": [
    "Napisać program rysujący \"miarkę\" o zadanej długości. Należy prawidłowo obsłużyć liczby składające się z kilku cyfr (ostatnia cyfra liczby ma znajdować się pod znakiem kreski pionowej). Należy zbudować pełny string, a potem go wypisać."
   ]
  },
  {
   "cell_type": "code",
   "execution_count": 2,
   "id": "dbd02008",
   "metadata": {},
   "outputs": [
    {
     "name": "stdout",
     "output_type": "stream",
     "text": [
      " |....|....|....|....|....|....|....|....|....|....|....|....| \n",
      " 0    1    2    3    4    5    6    7    8    9   10   11   12\n"
     ]
    }
   ],
   "source": [
    "def z_3_5(l):\n",
    "    m = \"|....\"\n",
    "    c = [' ', '0']\n",
    "    for i in range(l):\n",
    "        c[0] += m\n",
    "        c[1] += \"%5s\" % (i + 1)\n",
    "    print(c[0]+\"|\", '\\n', c[1],)\n",
    "z_3_5(12)"
   ]
  },
  {
   "cell_type": "markdown",
   "id": "ff3ef239",
   "metadata": {},
   "source": [
    "## Zadanie 3.6"
   ]
  },
  {
   "cell_type": "markdown",
   "id": "3111e98a",
   "metadata": {},
   "source": [
    "Napisać program rysujący prostokąt zbudowany z małych kratek. Należy zbudować pełny string, a potem go wypisać. Przykładowy prostokąt składający się 2x4 pól ma postać:"
   ]
  },
  {
   "cell_type": "code",
   "execution_count": 3,
   "id": "31f9a5bb",
   "metadata": {},
   "outputs": [
    {
     "name": "stdout",
     "output_type": "stream",
     "text": [
      "+---+---+---+---+\n",
      "|   |   |   |   |\n",
      "+---+---+---+---+\n",
      "|   |   |   |   |\n",
      "+---+---+---+---+\n",
      "\n"
     ]
    }
   ],
   "source": [
    "def z_3_6(h, l):\n",
    "    a = ''\n",
    "    b = \"+---\"\n",
    "    c = \"|   \"\n",
    "    def generate_el(wz, end):\n",
    "        a = ''\n",
    "        for j in range(l):\n",
    "            a += wz\n",
    "            if j == l - 1:\n",
    "                a += end + '\\n'\n",
    "        return a\n",
    "\n",
    "    for _ in range(h):\n",
    "        a += generate_el(b, '+')\n",
    "        a += generate_el(c, '|')\n",
    "    a += generate_el(b, '+')\n",
    "    print(a)\n",
    "z_3_6(2, 4)"
   ]
  },
  {
   "cell_type": "markdown",
   "id": "e8299f55",
   "metadata": {},
   "source": [
    "## Zadanie 3.8"
   ]
  },
  {
   "cell_type": "markdown",
   "id": "37d33649",
   "metadata": {},
   "source": [
    "Dla dwóch sekwencji liczb lub znaków znaleźć: (a) listę elementów występujących jednocześnie w obu sekwencjach (bez powtórzeń), (b) listę wszystkich elementów z obu sekwencji (bez powtórzeń)."
   ]
  },
  {
   "cell_type": "code",
   "execution_count": 4,
   "id": "e8684fcc",
   "metadata": {},
   "outputs": [
    {
     "name": "stdout",
     "output_type": "stream",
     "text": [
      "{8, 9, 3}\n",
      "{1, 2, 3, 4, 5, 6, 7, 8, 9, 76, 78}\n"
     ]
    }
   ],
   "source": [
    "def z_3_8():\n",
    "    a = [[2, 9], (6, 4), [8, 76], (78, 3, 9)]\n",
    "    b = [(7, 8,), (1, 3), (3, 5, 9)]\n",
    "    s_a = set()\n",
    "    s_b = set()\n",
    "\n",
    "    for el in a:\n",
    "        s_a.update(set(el))\n",
    "    for el in b:\n",
    "        s_b.update(set(el))\n",
    "        \n",
    "    print(s_a.intersection(s_b))\n",
    "    print(s_a.union(s_b))\n",
    "z_3_8()"
   ]
  },
  {
   "cell_type": "markdown",
   "id": "3cd5696b",
   "metadata": {},
   "source": [
    "## Zadanie 3.9"
   ]
  },
  {
   "cell_type": "markdown",
   "id": "49f211d4",
   "metadata": {},
   "source": [
    "Mamy daną listę sekwencji (listy lub krotki) różnej długości zawierających liczby. Znaleźć listę zawierającą sumy liczb z tych sekwencji. Przykładowa sekwencja [[],[4],(1,2),[3,4],(5,6,7)], spodziewany wynik [0,4,3,7,18]."
   ]
  },
  {
   "cell_type": "code",
   "execution_count": 5,
   "id": "b1be7b57",
   "metadata": {},
   "outputs": [
    {
     "name": "stdout",
     "output_type": "stream",
     "text": [
      "[0, 4, 3, 7, 18]\n"
     ]
    }
   ],
   "source": [
    "def z_3_9():\n",
    "    a = [[],[4],(1,2),[3,4],(5,6,7)]\n",
    "    print(list(map(lambda x: sum(x), a)))\n",
    "z_3_9()"
   ]
  },
  {
   "cell_type": "markdown",
   "id": "2a305c04",
   "metadata": {},
   "source": [
    "## Zadanie 3.10"
   ]
  },
  {
   "cell_type": "markdown",
   "id": "3c92dd32",
   "metadata": {},
   "source": [
    "Stworzyć słownik tłumaczący liczby zapisane w systemie rzymskim (z literami I, V, X, L, C, D, M) na liczby arabskie (podać kilka sposobów tworzenia takiego słownika). Mile widziany kod tłumaczący całą liczbę [funkcja roman2int()]."
   ]
  },
  {
   "cell_type": "code",
   "execution_count": 6,
   "id": "0a8fed26",
   "metadata": {},
   "outputs": [
    {
     "name": "stdout",
     "output_type": "stream",
     "text": [
      "1644\n"
     ]
    }
   ],
   "source": [
    "def z_3_10(num):\n",
    "    roman_n = {\"I\": 1, \"V\": 5, \"X\": 10, \"L\": 50, \"C\": 100, \"D\": 500, \"M\": 1000, \"CM\": 900, \"D\": 500, \"CD\": 400,\"C\": 100, \"XC\": 90, \"XL\": 40, \"IV\": 4}\n",
    "    num = num.upper()\n",
    "    arab = 0\n",
    "\n",
    "    while num:\n",
    "        if num[:2] in roman_n:\n",
    "            arab += roman_n[num[:2]]\n",
    "            num = num[2:]\n",
    "        elif num[:1] in roman_n:\n",
    "            arab += roman_n[num[:1]]\n",
    "            num = num[1:]\n",
    "        else:\n",
    "            print('This is not roman number')\n",
    "            break\n",
    "    print(arab)\n",
    "z_3_10(\"MDcXliV\")"
   ]
  }
 ],
 "metadata": {
  "kernelspec": {
   "display_name": "Python 3",
   "language": "python",
   "name": "python3"
  },
  "language_info": {
   "codemirror_mode": {
    "name": "ipython",
    "version": 3
   },
   "file_extension": ".py",
   "mimetype": "text/x-python",
   "name": "python",
   "nbconvert_exporter": "python",
   "pygments_lexer": "ipython3",
   "version": "3.8.8"
  }
 },
 "nbformat": 4,
 "nbformat_minor": 5
}
