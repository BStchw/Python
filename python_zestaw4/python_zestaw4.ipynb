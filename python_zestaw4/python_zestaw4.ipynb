{
 "cells": [
  {
   "cell_type": "markdown",
   "id": "649df5fd",
   "metadata": {},
   "source": [
    "## Zadanie 4.2"
   ]
  },
  {
   "cell_type": "markdown",
   "id": "814dc2cf",
   "metadata": {},
   "source": [
    "Rozwiązania zadań 3.5 i 3.6 z poprzedniego zestawu zapisać w postaci funkcji, które zwracają pełny string przez return. Funkcje nie powinny pytać użytkownika o dane, tylko korzystać z argumentów."
   ]
  },
  {
   "cell_type": "code",
   "execution_count": 15,
   "id": "7b862aea",
   "metadata": {},
   "outputs": [
    {
     "name": "stdout",
     "output_type": "stream",
     "text": [
      " |....|....|....|....|....|....|....|....|....|....|....|....|\n",
      "0    1    2    3    4    5    6    7    8    9   10   11   12\n",
      "+---+---+---+---+\n",
      "|   |   |   |   |\n",
      "+---+---+---+---+\n",
      "|   |   |   |   |\n",
      "+---+---+---+---+\n",
      "\n"
     ]
    }
   ],
   "source": [
    "def z_3_5(l):\n",
    "    m = \"|....\"\n",
    "    c = [' ', '0']\n",
    "    for i in range(l):\n",
    "        c[0] += m\n",
    "        c[1] += \"%5s\" % (i + 1)\n",
    "    return (c[0]+\"|\")+\"\\n\"+c[1]\n",
    "\n",
    "def z_3_6(h, l):\n",
    "    a = ''\n",
    "    b = \"+---\"\n",
    "    c = \"|   \"\n",
    "    def generate_el(wz, end):\n",
    "        a = ''\n",
    "        for j in range(l):\n",
    "            a += wz\n",
    "            if j == l - 1:\n",
    "                a += end + '\\n'\n",
    "        return a\n",
    "\n",
    "    for _ in range(h):\n",
    "        a += generate_el(b, '+')\n",
    "        a += generate_el(c, '|')\n",
    "    a += generate_el(b, '+')\n",
    "    return a\n",
    "print(z_3_5(12))\n",
    "print(z_3_6(2, 4))"
   ]
  },
  {
   "cell_type": "markdown",
   "id": "a50c8e99",
   "metadata": {},
   "source": [
    "## Zadanie 4.3"
   ]
  },
  {
   "cell_type": "markdown",
   "id": "b4f78039",
   "metadata": {},
   "source": [
    "Napisać iteracyjną wersję funkcji factorial(n) obliczającej silnię."
   ]
  },
  {
   "cell_type": "code",
   "execution_count": 26,
   "id": "10d671af",
   "metadata": {},
   "outputs": [
    {
     "name": "stdout",
     "output_type": "stream",
     "text": [
      "720\n"
     ]
    }
   ],
   "source": [
    "def factorial(n):\n",
    "    factorial = 1\n",
    "    for i in range(1, n + 1):\n",
    "        factorial *= i\n",
    "    return factorial\n",
    "\n",
    "\n",
    "print(factorial(6))"
   ]
  },
  {
   "cell_type": "markdown",
   "id": "663226a9",
   "metadata": {},
   "source": [
    "## Zadanie 4.4"
   ]
  },
  {
   "cell_type": "markdown",
   "id": "f7cc38c1",
   "metadata": {},
   "source": [
    "Napisać iteracyjną wersję funkcji fibonacci(n) obliczającej n-ty wyraz ciągu Fibonacciego."
   ]
  },
  {
   "cell_type": "code",
   "execution_count": 56,
   "id": "df1a9563",
   "metadata": {},
   "outputs": [
    {
     "data": {
      "text/plain": [
       "610"
      ]
     },
     "execution_count": 56,
     "metadata": {},
     "output_type": "execute_result"
    }
   ],
   "source": [
    "def fibonacci(n):\n",
    "    x = 1\n",
    "    y = 1\n",
    "    i = 0\n",
    "    while i < n-1:\n",
    "        x, y = y, x + y\n",
    "        i += 1\n",
    "    return x\n",
    "fibonacci(15)"
   ]
  },
  {
   "cell_type": "markdown",
   "id": "04ebff8a",
   "metadata": {},
   "source": [
    "## Zadanie 4.5"
   ]
  },
  {
   "cell_type": "markdown",
   "id": "bb80296f",
   "metadata": {},
   "source": [
    "Napisać funkcję odwracanie(L, left, right) odwracającą kolejność elementów na liście od numeru left do right włącznie. Lista jest modyfikowana w miejscu (in place). Rozważyć wersję iteracyjną i rekurencyjną."
   ]
  },
  {
   "cell_type": "code",
   "execution_count": 35,
   "id": "58c95fc1",
   "metadata": {},
   "outputs": [
    {
     "name": "stdout",
     "output_type": "stream",
     "text": [
      "[7, 43, 76, 2, 32, 5, 56]\n",
      "[7, 43, 56, 5, 32, 2, 76]\n",
      "[7, 43, 76, 5, 32, 2, 56]\n"
     ]
    }
   ],
   "source": [
    "def reverse_i(L, left, right):\n",
    "    assert left in range(len(L)) and left in range(len(L))\n",
    "    if right < left:\n",
    "        left, right = right, left\n",
    "    for i in range((right - left) // 2):\n",
    "        L[left], L[right] = L[right], L[left]\n",
    "        left += 1\n",
    "        right -= 1\n",
    "\n",
    "\n",
    "def reverse_r(L, left, right):\n",
    "    L[left], L[right] = L[right], L[left]\n",
    "    if left < right:\n",
    "        return reverse_r(L, left + 1, right - 1)\n",
    "    else:\n",
    "        return True\n",
    "\n",
    "\n",
    "L = [7, 43, 76, 2, 32, 5, 56]\n",
    "left = 6\n",
    "right = 2\n",
    "print(L)\n",
    "reverse_i(L, left, right)\n",
    "print(L)\n",
    "reverse_r(L, left, right)\n",
    "print(L)"
   ]
  },
  {
   "cell_type": "markdown",
   "id": "1f00042e",
   "metadata": {},
   "source": [
    "## Zadanie 4.6"
   ]
  },
  {
   "cell_type": "markdown",
   "id": "0f913fc7",
   "metadata": {},
   "source": [
    "Napisać funkcję sum_seq(sequence) obliczającą sumę liczb zawartych w sekwencji, która może zawierać zagnieżdżone podsekwencje. Wskazówka: rozważyć wersję rekurencyjną, a sprawdzanie, czy element jest sekwencją, wykonać przez isinstance(item, (list, tuple))."
   ]
  },
  {
   "cell_type": "code",
   "execution_count": 39,
   "id": "62bff2aa",
   "metadata": {},
   "outputs": [
    {
     "name": "stdout",
     "output_type": "stream",
     "text": [
      "286\n"
     ]
    }
   ],
   "source": [
    "sequence = [(1, 2, [45, 7, 89]), 3, (87, 1, 43), 8]\n",
    "\n",
    "\n",
    "def sum_seq(sequence):\n",
    "    sum = 0\n",
    "    for element in sequence:\n",
    "        if isinstance(element, (list, tuple)):\n",
    "            sum += sum_seq(element)\n",
    "        else:\n",
    "            sum += element\n",
    "    return sum\n",
    "\n",
    "print(sum_seq(sequence))"
   ]
  },
  {
   "cell_type": "markdown",
   "id": "5a2c486a",
   "metadata": {},
   "source": [
    "## Zadanie 4.7"
   ]
  },
  {
   "cell_type": "markdown",
   "id": "afa5378f",
   "metadata": {},
   "source": [
    "Mamy daną sekwencję, w której niektóre z elementów mogą okazać się podsekwencjami, a takie zagnieżdżenia mogą się nakładać do nieograniczonej głębokości. Napisać funkcję flatten(sequence), która zwróci spłaszczoną listę wszystkich elementów sekwencji. Wskazówka: rozważyć wersję rekurencyjną, a sprawdzanie czy element jest sekwencją, wykonać przez isinstance(item, (list, tuple))."
   ]
  },
  {
   "cell_type": "code",
   "execution_count": 43,
   "id": "0256066a",
   "metadata": {},
   "outputs": [
    {
     "name": "stdout",
     "output_type": "stream",
     "text": [
      "[1, 2, 3, 4, 5, 6, 7, 8, 9]\n"
     ]
    }
   ],
   "source": [
    "def flatten(sequence):\n",
    "    L = []\n",
    "    for element in sequence:\n",
    "        if isinstance(element, (list, tuple)):\n",
    "            L.extend(flatten(element))\n",
    "        else:\n",
    "            L.append(element)\n",
    "    return L\n",
    "seq = [1,(2,3),[],[4,(5,6,7)],8,[9]]\n",
    "print(flatten(seq))   # [1,2,3,4,5,6,7,8,9]"
   ]
  },
  {
   "cell_type": "code",
   "execution_count": null,
   "id": "1f204846",
   "metadata": {},
   "outputs": [],
   "source": []
  }
 ],
 "metadata": {
  "kernelspec": {
   "display_name": "Python 3",
   "language": "python",
   "name": "python3"
  },
  "language_info": {
   "codemirror_mode": {
    "name": "ipython",
    "version": 3
   },
   "file_extension": ".py",
   "mimetype": "text/x-python",
   "name": "python",
   "nbconvert_exporter": "python",
   "pygments_lexer": "ipython3",
   "version": "3.8.8"
  }
 },
 "nbformat": 4,
 "nbformat_minor": 5
}
